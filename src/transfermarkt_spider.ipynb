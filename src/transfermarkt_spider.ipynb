{
 "cells": [
  {
   "cell_type": "code",
   "execution_count": 7,
   "metadata": {},
   "outputs": [
    {
     "name": "stdout",
     "output_type": "stream",
     "text": [
      "Tabelle gefunden!\n",
      "Anzahl der Zeilen: 12\n",
      "\n",
      " | FC Basel 1893 |   | 31 | 23,9 | 19 | 2,14 Mio. € | 66,20 Mio. €\n"
     ]
    }
   ],
   "source": [
    "import requests\n",
    "from bs4 import BeautifulSoup\n",
    "\n",
    "# URL der Schweizer Super League Übersicht (Wettbewerb C1)\n",
    "url = \"https://www.transfermarkt.ch/super-league/startseite/wettbewerb/C1\"\n",
    "headers = {\n",
    "    \"User-Agent\": \"Mozilla/5.0 (Windows NT 10.0; Win64; x64) AppleWebKit/537.36 (KHTML, like Gecko) Chrome/115.0.0.0 Safari/537.36\"\n",
    "}\n",
    "\n",
    "response = requests.get(url, headers=headers)\n",
    "soup = BeautifulSoup(response.text, \"html.parser\")\n",
    "\n",
    "# Suche nach der Tabelle mit den Club-Daten\n",
    "table = soup.find(\"table\", {\"class\": \"items\"})\n",
    "if table:\n",
    "    print(\"Tabelle gefunden!\")\n",
    "    tbody = table.find(\"tbody\")\n",
    "    if tbody:\n",
    "        rows = tbody.find_all(\"tr\")\n",
    "        print(f\"Anzahl der Zeilen: {len(rows)}\")\n",
    "        if rows:\n",
    "            # Ausgabe der ersten Zeile zur Kontrolle\n",
    "            print(rows[0].get_text(separator=\" | \"))\n",
    "    else:\n",
    "        print(\"Kein <tbody> gefunden!\")\n",
    "else:\n",
    "    print(\"Keine Tabelle gefunden!\")\n"
   ]
  },
  {
   "cell_type": "code",
   "execution_count": 17,
   "metadata": {},
   "outputs": [
    {
     "ename": "AttributeError",
     "evalue": "module 'websockets' has no attribute 'client'",
     "output_type": "error",
     "traceback": [
      "\u001b[31m---------------------------------------------------------------------------\u001b[39m",
      "\u001b[31mAttributeError\u001b[39m                            Traceback (most recent call last)",
      "\u001b[36mCell\u001b[39m\u001b[36m \u001b[39m\u001b[32mIn[17]\u001b[39m\u001b[32m, line 46\u001b[39m\n\u001b[32m     43\u001b[39m     \u001b[38;5;28;01mreturn\u001b[39;00m match_data\n\u001b[32m     45\u001b[39m \u001b[38;5;66;03m# In einem Notebook kannst du asynchron direkt await nutzen:\u001b[39;00m\n\u001b[32m---> \u001b[39m\u001b[32m46\u001b[39m match_data = \u001b[38;5;28;01mawait\u001b[39;00m get_matchday_data()\n\u001b[32m     47\u001b[39m \u001b[38;5;28mprint\u001b[39m(json.dumps(match_data, indent=\u001b[32m2\u001b[39m, ensure_ascii=\u001b[38;5;28;01mFalse\u001b[39;00m))\n",
      "\u001b[36mCell\u001b[39m\u001b[36m \u001b[39m\u001b[32mIn[17]\u001b[39m\u001b[32m, line 14\u001b[39m, in \u001b[36mget_matchday_data\u001b[39m\u001b[34m()\u001b[39m\n\u001b[32m     12\u001b[39m response = \u001b[38;5;28;01mawait\u001b[39;00m asession.get(matchday_url, headers=headers)\n\u001b[32m     13\u001b[39m \u001b[38;5;66;03m# Rendern der Seite, um den JavaScript-Inhalt zu laden\u001b[39;00m\n\u001b[32m---> \u001b[39m\u001b[32m14\u001b[39m \u001b[38;5;28;01mawait\u001b[39;00m response.html.arender(timeout=\u001b[32m20\u001b[39m)\n\u001b[32m     16\u001b[39m soup = BeautifulSoup(response.html.html, \u001b[33m\"\u001b[39m\u001b[33mhtml.parser\u001b[39m\u001b[33m\"\u001b[39m)\n\u001b[32m     18\u001b[39m matchday_table = soup.find(\u001b[33m\"\u001b[39m\u001b[33mtable\u001b[39m\u001b[33m\"\u001b[39m, {\u001b[33m\"\u001b[39m\u001b[33mclass\u001b[39m\u001b[33m\"\u001b[39m: \u001b[33m\"\u001b[39m\u001b[33mitems\u001b[39m\u001b[33m\"\u001b[39m})\n",
      "\u001b[36mFile \u001b[39m\u001b[32mc:\\Users\\percy\\Desktop\\superleague_prognose\\.venv\\Lib\\site-packages\\requests_html.py:615\u001b[39m, in \u001b[36mHTML.arender\u001b[39m\u001b[34m(self, retries, script, wait, scrolldown, sleep, reload, timeout, keep_page)\u001b[39m\n\u001b[32m    612\u001b[39m \u001b[38;5;28;01masync\u001b[39;00m \u001b[38;5;28;01mdef\u001b[39;00m\u001b[38;5;250m \u001b[39m\u001b[34marender\u001b[39m(\u001b[38;5;28mself\u001b[39m, retries: \u001b[38;5;28mint\u001b[39m = \u001b[32m8\u001b[39m, script: \u001b[38;5;28mstr\u001b[39m = \u001b[38;5;28;01mNone\u001b[39;00m, wait: \u001b[38;5;28mfloat\u001b[39m = \u001b[32m0.2\u001b[39m, scrolldown=\u001b[38;5;28;01mFalse\u001b[39;00m, sleep: \u001b[38;5;28mint\u001b[39m = \u001b[32m0\u001b[39m, reload: \u001b[38;5;28mbool\u001b[39m = \u001b[38;5;28;01mTrue\u001b[39;00m, timeout: Union[\u001b[38;5;28mfloat\u001b[39m, \u001b[38;5;28mint\u001b[39m] = \u001b[32m8.0\u001b[39m, keep_page: \u001b[38;5;28mbool\u001b[39m = \u001b[38;5;28;01mFalse\u001b[39;00m):\n\u001b[32m    613\u001b[39m \u001b[38;5;250m    \u001b[39m\u001b[33;03m\"\"\" Async version of render. Takes same parameters. \"\"\"\u001b[39;00m\n\u001b[32m--> \u001b[39m\u001b[32m615\u001b[39m     \u001b[38;5;28mself\u001b[39m.browser = \u001b[38;5;28;01mawait\u001b[39;00m \u001b[38;5;28mself\u001b[39m.session.browser\n\u001b[32m    616\u001b[39m     content = \u001b[38;5;28;01mNone\u001b[39;00m\n\u001b[32m    618\u001b[39m     \u001b[38;5;66;03m# Automatically set Reload to False, if example URL is being used.\u001b[39;00m\n",
      "\u001b[36mFile \u001b[39m\u001b[32mc:\\Users\\percy\\Desktop\\superleague_prognose\\.venv\\Lib\\site-packages\\requests_html.py:714\u001b[39m, in \u001b[36mBaseSession.browser\u001b[39m\u001b[34m(self)\u001b[39m\n\u001b[32m    711\u001b[39m \u001b[38;5;129m@property\u001b[39m\n\u001b[32m    712\u001b[39m \u001b[38;5;28;01masync\u001b[39;00m \u001b[38;5;28;01mdef\u001b[39;00m\u001b[38;5;250m \u001b[39m\u001b[34mbrowser\u001b[39m(\u001b[38;5;28mself\u001b[39m):\n\u001b[32m    713\u001b[39m     \u001b[38;5;28;01mif\u001b[39;00m \u001b[38;5;129;01mnot\u001b[39;00m \u001b[38;5;28mhasattr\u001b[39m(\u001b[38;5;28mself\u001b[39m, \u001b[33m\"\u001b[39m\u001b[33m_browser\u001b[39m\u001b[33m\"\u001b[39m):\n\u001b[32m--> \u001b[39m\u001b[32m714\u001b[39m         \u001b[38;5;28mself\u001b[39m._browser = \u001b[38;5;28;01mawait\u001b[39;00m pyppeteer.launch(ignoreHTTPSErrors=\u001b[38;5;129;01mnot\u001b[39;00m(\u001b[38;5;28mself\u001b[39m.verify), headless=\u001b[38;5;28;01mTrue\u001b[39;00m, args=\u001b[38;5;28mself\u001b[39m.__browser_args)\n\u001b[32m    716\u001b[39m     \u001b[38;5;28;01mreturn\u001b[39;00m \u001b[38;5;28mself\u001b[39m._browser\n",
      "\u001b[36mFile \u001b[39m\u001b[32mc:\\Users\\percy\\Desktop\\superleague_prognose\\.venv\\Lib\\site-packages\\pyppeteer\\launcher.py:311\u001b[39m, in \u001b[36mlaunch\u001b[39m\u001b[34m(options, **kwargs)\u001b[39m\n\u001b[32m    265\u001b[39m \u001b[38;5;28;01masync\u001b[39;00m \u001b[38;5;28;01mdef\u001b[39;00m\u001b[38;5;250m \u001b[39m\u001b[34mlaunch\u001b[39m(options: \u001b[38;5;28mdict\u001b[39m = \u001b[38;5;28;01mNone\u001b[39;00m, **kwargs: Any) -> Browser:\n\u001b[32m    266\u001b[39m \u001b[38;5;250m    \u001b[39m\u001b[33;03m\"\"\"Start chrome process and return :class:`~pyppeteer.browser.Browser`.\u001b[39;00m\n\u001b[32m    267\u001b[39m \n\u001b[32m    268\u001b[39m \u001b[33;03m    This function is a shortcut to :meth:`Launcher(options, **kwargs).launch`.\u001b[39;00m\n\u001b[32m   (...)\u001b[39m\u001b[32m    309\u001b[39m \u001b[33;03m        option with extreme caution.\u001b[39;00m\n\u001b[32m    310\u001b[39m \u001b[33;03m    \"\"\"\u001b[39;00m\n\u001b[32m--> \u001b[39m\u001b[32m311\u001b[39m     \u001b[38;5;28;01mreturn\u001b[39;00m \u001b[38;5;28;01mawait\u001b[39;00m Launcher(options, **kwargs).launch()\n",
      "\u001b[36mFile \u001b[39m\u001b[32mc:\\Users\\percy\\Desktop\\superleague_prognose\\.venv\\Lib\\site-packages\\pyppeteer\\launcher.py:191\u001b[39m, in \u001b[36mLauncher.launch\u001b[39m\u001b[34m(self)\u001b[39m\n\u001b[32m    189\u001b[39m \u001b[38;5;28mself\u001b[39m.browserWSEndpoint = \u001b[38;5;28mself\u001b[39m._get_ws_endpoint()\n\u001b[32m    190\u001b[39m logger.info(\u001b[33mf\u001b[39m\u001b[33m'\u001b[39m\u001b[33mBrowser listening on: \u001b[39m\u001b[38;5;132;01m{\u001b[39;00m\u001b[38;5;28mself\u001b[39m.browserWSEndpoint\u001b[38;5;132;01m}\u001b[39;00m\u001b[33m'\u001b[39m)\n\u001b[32m--> \u001b[39m\u001b[32m191\u001b[39m \u001b[38;5;28mself\u001b[39m.connection = \u001b[43mConnection\u001b[49m\u001b[43m(\u001b[49m\n\u001b[32m    192\u001b[39m \u001b[43m    \u001b[49m\u001b[38;5;28;43mself\u001b[39;49m\u001b[43m.\u001b[49m\u001b[43mbrowserWSEndpoint\u001b[49m\u001b[43m,\u001b[49m\u001b[43m \u001b[49m\u001b[38;5;28;43mself\u001b[39;49m\u001b[43m.\u001b[49m\u001b[43m_loop\u001b[49m\u001b[43m,\u001b[49m\u001b[43m \u001b[49m\u001b[43mconnectionDelay\u001b[49m\u001b[43m)\u001b[49m\n\u001b[32m    193\u001b[39m ignoreHTTPSErrors = \u001b[38;5;28mbool\u001b[39m(\u001b[38;5;28mself\u001b[39m.options.get(\u001b[33m'\u001b[39m\u001b[33mignoreHTTPSErrors\u001b[39m\u001b[33m'\u001b[39m, \u001b[38;5;28;01mFalse\u001b[39;00m))\n\u001b[32m    194\u001b[39m setDefaultViewport = \u001b[38;5;129;01mnot\u001b[39;00m \u001b[38;5;28mself\u001b[39m.options.get(\u001b[33m'\u001b[39m\u001b[33mappMode\u001b[39m\u001b[33m'\u001b[39m, \u001b[38;5;28;01mFalse\u001b[39;00m)\n",
      "\u001b[36mFile \u001b[39m\u001b[32mc:\\Users\\percy\\Desktop\\superleague_prognose\\.venv\\Lib\\site-packages\\pyppeteer\\connection.py:43\u001b[39m, in \u001b[36mConnection.__init__\u001b[39m\u001b[34m(self, url, loop, delay)\u001b[39m\n\u001b[32m     41\u001b[39m \u001b[38;5;28mself\u001b[39m.connection: CDPSession\n\u001b[32m     42\u001b[39m \u001b[38;5;28mself\u001b[39m._connected = \u001b[38;5;28;01mFalse\u001b[39;00m\n\u001b[32m---> \u001b[39m\u001b[32m43\u001b[39m \u001b[38;5;28mself\u001b[39m._ws = \u001b[43mwebsockets\u001b[49m\u001b[43m.\u001b[49m\u001b[43mclient\u001b[49m.connect(\n\u001b[32m     44\u001b[39m     \u001b[38;5;28mself\u001b[39m._url, max_size=\u001b[38;5;28;01mNone\u001b[39;00m, loop=\u001b[38;5;28mself\u001b[39m._loop)\n\u001b[32m     45\u001b[39m \u001b[38;5;28mself\u001b[39m._recv_fut = \u001b[38;5;28mself\u001b[39m._loop.create_task(\u001b[38;5;28mself\u001b[39m._recv_loop())\n\u001b[32m     46\u001b[39m \u001b[38;5;28mself\u001b[39m._closeCallback: Optional[Callable[[], \u001b[38;5;28;01mNone\u001b[39;00m]] = \u001b[38;5;28;01mNone\u001b[39;00m\n",
      "\u001b[36mFile \u001b[39m\u001b[32mc:\\Users\\percy\\Desktop\\superleague_prognose\\.venv\\Lib\\site-packages\\websockets\\imports.py:93\u001b[39m, in \u001b[36mlazy_import.<locals>.__getattr__\u001b[39m\u001b[34m(name)\u001b[39m\n\u001b[32m     86\u001b[39m     warnings.warn(\n\u001b[32m     87\u001b[39m         \u001b[33mf\u001b[39m\u001b[33m\"\u001b[39m\u001b[38;5;132;01m{\u001b[39;00mpackage\u001b[38;5;132;01m}\u001b[39;00m\u001b[33m.\u001b[39m\u001b[38;5;132;01m{\u001b[39;00mname\u001b[38;5;132;01m}\u001b[39;00m\u001b[33m is deprecated\u001b[39m\u001b[33m\"\u001b[39m,\n\u001b[32m     88\u001b[39m         \u001b[38;5;167;01mDeprecationWarning\u001b[39;00m,\n\u001b[32m     89\u001b[39m         stacklevel=\u001b[32m2\u001b[39m,\n\u001b[32m     90\u001b[39m     )\n\u001b[32m     91\u001b[39m     \u001b[38;5;28;01mreturn\u001b[39;00m import_name(name, source, namespace)\n\u001b[32m---> \u001b[39m\u001b[32m93\u001b[39m \u001b[38;5;28;01mraise\u001b[39;00m \u001b[38;5;167;01mAttributeError\u001b[39;00m(\u001b[33mf\u001b[39m\u001b[33m\"\u001b[39m\u001b[33mmodule \u001b[39m\u001b[38;5;132;01m{\u001b[39;00mpackage\u001b[38;5;132;01m!r}\u001b[39;00m\u001b[33m has no attribute \u001b[39m\u001b[38;5;132;01m{\u001b[39;00mname\u001b[38;5;132;01m!r}\u001b[39;00m\u001b[33m\"\u001b[39m)\n",
      "\u001b[31mAttributeError\u001b[39m: module 'websockets' has no attribute 'client'"
     ]
    }
   ],
   "source": [
    "import asyncio\n",
    "from requests_html import AsyncHTMLSession\n",
    "from bs4 import BeautifulSoup\n",
    "import json\n",
    "\n",
    "async def get_matchday_data():\n",
    "    matchday_url = \"https://www.transfermarkt.ch/super-league/spieltag/wettbewerb/C1/saison_id/2023/page/1\"\n",
    "    headers = {\n",
    "        \"User-Agent\": \"Mozilla/5.0 (Windows NT 10.0; Win64; x64) AppleWebKit/537.36 (KHTML, like Gecko) Chrome/115.0.0.0 Safari/537.36\"\n",
    "    }\n",
    "    asession = AsyncHTMLSession()\n",
    "    response = await asession.get(matchday_url, headers=headers)\n",
    "    # Rendern der Seite, um den JavaScript-Inhalt zu laden\n",
    "    await response.html.arender(timeout=20)\n",
    "    \n",
    "    soup = BeautifulSoup(response.html.html, \"html.parser\")\n",
    "    \n",
    "    matchday_table = soup.find(\"table\", {\"class\": \"items\"})\n",
    "    match_data = []\n",
    "    if matchday_table:\n",
    "        tbody = matchday_table.find(\"tbody\")\n",
    "        if tbody:\n",
    "            rows = tbody.find_all(\"tr\")\n",
    "            for row in rows:\n",
    "                cells = row.find_all(\"td\")\n",
    "                if len(cells) >= 10:\n",
    "                    data = {\n",
    "                        \"position\": cells[0].get_text(strip=True),\n",
    "                        \"club_name\": cells[1].get_text(strip=True),\n",
    "                        \"played\": cells[2].get_text(strip=True),\n",
    "                        \"won\": cells[3].get_text(strip=True),\n",
    "                        \"drawn\": cells[4].get_text(strip=True),\n",
    "                        \"lost\": cells[5].get_text(strip=True),\n",
    "                        \"goals_for\": cells[6].get_text(strip=True),\n",
    "                        \"goals_against\": cells[7].get_text(strip=True),\n",
    "                        \"goal_difference\": cells[8].get_text(strip=True),\n",
    "                        \"points\": cells[9].get_text(strip=True)\n",
    "                    }\n",
    "                    match_data.append(data)\n",
    "    else:\n",
    "        print(\"Keine Tabelle mit Klasse 'items' gefunden!\")\n",
    "    \n",
    "    return match_data\n",
    "\n",
    "# In einem Notebook kannst du asynchron direkt await nutzen:\n",
    "match_data = await get_matchday_data()\n",
    "print(json.dumps(match_data, indent=2, ensure_ascii=False))\n"
   ]
  }
 ],
 "metadata": {
  "kernelspec": {
   "display_name": ".venv",
   "language": "python",
   "name": "python3"
  },
  "language_info": {
   "codemirror_mode": {
    "name": "ipython",
    "version": 3
   },
   "file_extension": ".py",
   "mimetype": "text/x-python",
   "name": "python",
   "nbconvert_exporter": "python",
   "pygments_lexer": "ipython3",
   "version": "3.13.0"
  }
 },
 "nbformat": 4,
 "nbformat_minor": 2
}
