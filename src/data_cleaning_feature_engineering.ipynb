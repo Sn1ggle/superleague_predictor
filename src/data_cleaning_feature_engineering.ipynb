{
 "cells": [
  {
   "cell_type": "code",
   "execution_count": null,
   "metadata": {},
   "outputs": [],
   "source": [
    "# Data Cleaning & Feature Engineering Notebook\n",
    "import pandas as pd\n",
    "\n",
    "# Load raw data\n",
    "df_matches = pd.read_csv(\"data/df_matches_raw.csv\")\n",
    "df_league_table = pd.read_csv(\"data/df_league_table_raw.csv\")\n",
    "\n",
    "# Process match data\n",
    "df_matches['date'] = pd.to_datetime(df_matches['date'], format=\"%d.%m.%Y\", errors='coerce')\n",
    "df_matches['home_goals'] = pd.to_numeric(df_matches['home_goals'], errors='coerce')\n",
    "df_matches['away_goals'] = pd.to_numeric(df_matches['away_goals'], errors='coerce')\n",
    "df_matches['goal_diff'] = df_matches['home_goals'] - df_matches['away_goals']\n",
    "df_matches['total_goals'] = df_matches['home_goals'] + df_matches['away_goals']\n",
    "df_matches['day_of_week'] = df_matches['date'].dt.day_name()\n",
    "df_matches = pd.get_dummies(df_matches, columns=['day_of_week'], drop_first=True)\n",
    "\n",
    "# Export processed match data for ML\n",
    "df_matches.to_csv(\"data/df_matches_ml.csv\", index=False)\n",
    "\n",
    "# Process league table data if further processing is required; for now, export as is.\n",
    "df_league_table.to_csv(\"data/df_league_table_ml.csv\", index=False)\n"
   ]
  }
 ],
 "metadata": {
  "language_info": {
   "name": "python"
  }
 },
 "nbformat": 4,
 "nbformat_minor": 2
}
